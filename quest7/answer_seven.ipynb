{
 "cells": [
  {
   "cell_type": "code",
   "execution_count": 1,
   "id": "77a392bb",
   "metadata": {},
   "outputs": [
    {
     "name": "stdout",
     "output_type": "stream",
     "text": [
      "Requirement already satisfied: pandas in c:\\users\\49152\\.virtualenvs\\arxiv_tutorial-eqfsjaxc\\lib\\site-packages (1.4.3)\n",
      "Requirement already satisfied: python-dateutil>=2.8.1 in c:\\users\\49152\\.virtualenvs\\arxiv_tutorial-eqfsjaxc\\lib\\site-packages (from pandas) (2.8.2)\n",
      "Requirement already satisfied: pytz>=2020.1 in c:\\users\\49152\\.virtualenvs\\arxiv_tutorial-eqfsjaxc\\lib\\site-packages (from pandas) (2022.1)\n",
      "Requirement already satisfied: numpy>=1.21.0 in c:\\users\\49152\\.virtualenvs\\arxiv_tutorial-eqfsjaxc\\lib\\site-packages (from pandas) (1.24.4)\n",
      "Requirement already satisfied: six>=1.5 in c:\\users\\49152\\.virtualenvs\\arxiv_tutorial-eqfsjaxc\\lib\\site-packages (from python-dateutil>=2.8.1->pandas) (1.16.0)\n"
     ]
    }
   ],
   "source": [
    "import sys\n",
    "!{sys.executable} -m pip install pandas"
   ]
  },
  {
   "cell_type": "code",
   "execution_count": 14,
   "id": "23807a8e",
   "metadata": {},
   "outputs": [],
   "source": [
    "import pandas as pd\n",
    "import json\n",
    "\n",
    "data = pd.read_csv('seven.csv')\n",
    "\n",
    "# The next line cleans the data by removing duplicate lines.\n",
    "data.drop_duplicates(inplace = True)\n",
    "\n",
    "data['Published At'] = pd.to_datetime(data['Published At'])\n",
    "\n",
    "time_periods = [\n",
    "    ('2020', '2020-01-01', '2020-12-31'),\n",
    "    ('2021', '2021-01-01', '2021-12-31'),\n",
    "    ('2022', '2022-01-01', '2022-12-31'),\n",
    "    ('2023', '2023-01-01', '2023-12-31'),\n",
    "    ('2024_first_third', '2024-01-01', '2024-04-30'),\n",
    "    ('2024_second_third', '2024-05-01', '2024-08-31'),\n",
    "    ('2024_third_third', '2024-09-01', '2024-12-31'),\n",
    "    ('2025_first_third', '2025-01-01', '2025-04-30'),\n",
    "    ('2025_second_third', '2025-05-01', '2025-08-31'),\n",
    "]\n",
    "\n",
    "results = {}\n",
    "\n",
    "for name, start, end in time_periods:\n",
    "    filter = (data['Published At'] >= start) & (data['Published At'] <= end)\n",
    "    filtered = data[filter]\n",
    "    \n",
    "    if int(filtered['Likes'].sum()) > 0:\n",
    "        views_likes = (int(filtered['Views'].sum()))/int(filtered['Likes'].sum())\n",
    "    else:\n",
    "        views_likes = 0\n",
    "\n",
    "    results[name] = {\n",
    "        'videos': int(len(filtered)),   \n",
    "        'views' : int(filtered['Views'].sum()),\n",
    "        'likes' : int(filtered['Likes'].sum()),\n",
    "    }\n",
    "\n",
    "# In JSON-Datei speichern\n",
    "with open('answer_seven.json', 'w', encoding='utf-8') as file:\n",
    "    json.dump(results, file, indent=5)\n"
   ]
  },
  {
   "cell_type": "code",
   "execution_count": 4,
   "id": "a69293fb",
   "metadata": {},
   "outputs": [
    {
     "data": {
      "image/png": "[encoded data removed]",
      "text/plain": [
       "<Figure size 432x432 with 1 Axes>"
      ]
     },
     "metadata": {},
     "output_type": "display_data"
    }
   ],
   "source": [
    "import pandas as pd\n",
    "import matplotlib.pyplot as plt\n",
    "\n",
    "import json\n",
    "\n",
    "with open('answer_seven.json', 'r', encoding='utf-8') as file:\n",
    "    statistics = json.load(file)\n",
    "\n",
    "data = pd.DataFrame.from_dict(statistics, orient='index')\n",
    "\n",
    "all_views = data['views'].sum()\n",
    "all_likes = data['likes'].sum()\n",
    "all_other_views = max(0,all_views - all_likes)\n",
    "\n",
    "plt.figure(figsize=(6,6))\n",
    "plt.pie(\n",
    "    [all_likes, all_other_views],\n",
    "    labels=['Likes', 'Other Views'],\n",
    "    colors=['orange', 'skyblue'],\n",
    "    autopct='%1.1f%%',\n",
    "    startangle=90\n",
    ")\n",
    "\n",
    "plt.title(f'2020-2025 - {data[\"videos\"].sum()} Videos', fontsize=14)\n",
    "plt.tight_layout()\n",
    "plt.show()"
   ]
  }
 ],
 "metadata": {
  "kernelspec": {
   "display_name": "venv",
   "language": "python",
   "name": "venv"
  },
  "language_info": {
   "codemirror_mode": {
    "name": "ipython",
    "version": 3
   },
   "file_extension": ".py",
   "mimetype": "text/x-python",
   "name": "python",
   "nbconvert_exporter": "python",
   "pygments_lexer": "ipython3",
   "version": "3.10.0"
  }
 },
 "nbformat": 4,
 "nbformat_minor": 5
}

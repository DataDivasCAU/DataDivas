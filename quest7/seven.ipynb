{
 "cells": [
  {
   "cell_type": "code",
   "execution_count": null,
   "id": "bc90a535",
   "metadata": {},
   "outputs": [],
   "source": [
    "import sys\n",
    "!{sys.executable} -m pip install google-api-python-client"
   ]
  },
  {
   "cell_type": "code",
   "execution_count": null,
   "id": "71468fe8",
   "metadata": {},
   "outputs": [],
   "source": [
    "import csv\n",
    "\n",
    "from googleapiclient.discovery import build\n",
    "\n",
    "api_key = 'HIDDEN'  # The API key is hidden here and should be replaced before running the script. \n",
    "service = build('youtube', 'v3', developerKey=api_key)\n",
    "nextPageToken = None\n",
    "\n",
    "with open('seven.csv', 'w', newline='', encoding='utf-8') as results:  # Due to the utf8-encoding emojis can also be displayed.\n",
    "    csvwrite = csv.writer(results)\n",
    "    csvwrite.writerow(['Video ID', 'Title', 'Channel', 'Published At', 'Views','Likes'])\n",
    "    \n",
    "    while True:\n",
    "        # This API requests requests the next 50 result videos for the search 'tradwife'.\n",
    "        search_request = service.search().list(\n",
    "            q='tradwife',\n",
    "            part='snippet',\n",
    "            type='video',\n",
    "            maxResults=50,\n",
    "            pageToken=nextPageToken\n",
    "        )\n",
    "        \n",
    "        search_response = search_request.execute()\n",
    "\n",
    "        video_ids = [item['id']['videoId'] for item in search_response.get('items', [])]\n",
    "        if not video_ids:\n",
    "            break\n",
    "\n",
    "        # video_requests requests the statistics for the result videos to get the number of views and likes.\n",
    "        video_request = service.videos().list(\n",
    "            part='statistics,snippet',\n",
    "            id=','.join(video_ids)\n",
    "        )\n",
    "\n",
    "        video_response = video_request.execute()\n",
    "\n",
    "        # All wanted information of the result videos is saved in a csv-file.\n",
    "        for item in video_response.get('items', []):\n",
    "            video_id = item['id']\n",
    "            title = item['snippet']['title']\n",
    "            channel = item['snippet']['channelTitle']\n",
    "            published = item['snippet']['publishedAt']\n",
    "            views = item.get('statistics', {}).get('viewCount','0')\n",
    "            likes = item.get('statistics', {}).get('likeCount', '0')\n",
    "            csvwrite.writerow([video_id, title, channel, published, views, likes])\n",
    "\n",
    "        nextPageToken = search_response.get('nextPageToken')  # This token makes sure the next 50 results are requested in the next search_request.\n",
    "\n",
    "        if not nextPageToken: \n",
    "            break  # This loop breaks if all results for the term 'tradwife' are found. "
   ]
  }
 ],
 "metadata": {
  "kernelspec": {
   "display_name": "venv",
   "language": "python",
   "name": "venv"
  },
  "language_info": {
   "name": "python",
   "version": "3.10.0"
  }
 },
 "nbformat": 4,
 "nbformat_minor": 5
}

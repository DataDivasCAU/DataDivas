{
 "cells": [
  {
   "cell_type": "markdown",
   "id": "3d9870f2",
   "metadata": {},
   "source": [
    "Question 1:\n",
    "How has the public perception of anti-vaccine conspiracy via YouTube changed during the last five years?"
   ]
  },
  {
   "cell_type": "code",
   "execution_count": 13,
   "id": "976efdc2",
   "metadata": {},
   "outputs": [
    {
     "name": "stdout",
     "output_type": "stream",
     "text": [
      "Requirement already satisfied: spacy in c:\\users\\49152\\.virtualenvs\\arxiv_tutorial-eqfsjaxc\\lib\\site-packages (3.8.7)\n",
      "Requirement already satisfied: spacy-legacy<3.1.0,>=3.0.11 in c:\\users\\49152\\.virtualenvs\\arxiv_tutorial-eqfsjaxc\\lib\\site-packages (from spacy) (3.0.12)\n",
      "Requirement already satisfied: spacy-loggers<2.0.0,>=1.0.0 in c:\\users\\49152\\.virtualenvs\\arxiv_tutorial-eqfsjaxc\\lib\\site-packages (from spacy) (1.0.5)\n",
      "Requirement already satisfied: murmurhash<1.1.0,>=0.28.0 in c:\\users\\49152\\.virtualenvs\\arxiv_tutorial-eqfsjaxc\\lib\\site-packages (from spacy) (1.0.13)\n",
      "Requirement already satisfied: cymem<2.1.0,>=2.0.2 in c:\\users\\49152\\.virtualenvs\\arxiv_tutorial-eqfsjaxc\\lib\\site-packages (from spacy) (2.0.11)\n",
      "Requirement already satisfied: preshed<3.1.0,>=3.0.2 in c:\\users\\49152\\.virtualenvs\\arxiv_tutorial-eqfsjaxc\\lib\\site-packages (from spacy) (3.0.10)\n",
      "Requirement already satisfied: thinc<8.4.0,>=8.3.4 in c:\\users\\49152\\.virtualenvs\\arxiv_tutorial-eqfsjaxc\\lib\\site-packages (from spacy) (8.3.6)\n",
      "Requirement already satisfied: wasabi<1.2.0,>=0.9.1 in c:\\users\\49152\\.virtualenvs\\arxiv_tutorial-eqfsjaxc\\lib\\site-packages (from spacy) (1.1.3)\n",
      "Requirement already satisfied: srsly<3.0.0,>=2.4.3 in c:\\users\\49152\\.virtualenvs\\arxiv_tutorial-eqfsjaxc\\lib\\site-packages (from spacy) (2.5.1)\n",
      "Requirement already satisfied: catalogue<2.1.0,>=2.0.6 in c:\\users\\49152\\.virtualenvs\\arxiv_tutorial-eqfsjaxc\\lib\\site-packages (from spacy) (2.0.10)\n",
      "Requirement already satisfied: weasel<0.5.0,>=0.1.0 in c:\\users\\49152\\.virtualenvs\\arxiv_tutorial-eqfsjaxc\\lib\\site-packages (from spacy) (0.4.1)\n",
      "Requirement already satisfied: typer<1.0.0,>=0.3.0 in c:\\users\\49152\\.virtualenvs\\arxiv_tutorial-eqfsjaxc\\lib\\site-packages (from spacy) (0.17.4)\n",
      "Requirement already satisfied: tqdm<5.0.0,>=4.38.0 in c:\\users\\49152\\.virtualenvs\\arxiv_tutorial-eqfsjaxc\\lib\\site-packages (from spacy) (4.64.0)\n",
      "Requirement already satisfied: numpy>=1.19.0 in c:\\users\\49152\\.virtualenvs\\arxiv_tutorial-eqfsjaxc\\lib\\site-packages (from spacy) (1.24.4)\n",
      "Requirement already satisfied: requests<3.0.0,>=2.13.0 in c:\\users\\49152\\.virtualenvs\\arxiv_tutorial-eqfsjaxc\\lib\\site-packages (from spacy) (2.28.0)\n",
      "Requirement already satisfied: pydantic!=1.8,!=1.8.1,<3.0.0,>=1.7.4 in c:\\users\\49152\\.virtualenvs\\arxiv_tutorial-eqfsjaxc\\lib\\site-packages (from spacy) (2.11.9)\n",
      "Requirement already satisfied: jinja2 in c:\\users\\49152\\.virtualenvs\\arxiv_tutorial-eqfsjaxc\\lib\\site-packages (from spacy) (3.1.2)\n",
      "Requirement already satisfied: setuptools in c:\\users\\49152\\.virtualenvs\\arxiv_tutorial-eqfsjaxc\\lib\\site-packages (from spacy) (69.1.1)\n",
      "Requirement already satisfied: packaging>=20.0 in c:\\users\\49152\\.virtualenvs\\arxiv_tutorial-eqfsjaxc\\lib\\site-packages (from spacy) (21.3)\n",
      "Requirement already satisfied: langcodes<4.0.0,>=3.2.0 in c:\\users\\49152\\.virtualenvs\\arxiv_tutorial-eqfsjaxc\\lib\\site-packages (from spacy) (3.5.0)\n",
      "Requirement already satisfied: language-data>=1.2 in c:\\users\\49152\\.virtualenvs\\arxiv_tutorial-eqfsjaxc\\lib\\site-packages (from langcodes<4.0.0,>=3.2.0->spacy) (1.3.0)\n",
      "Requirement already satisfied: annotated-types>=0.6.0 in c:\\users\\49152\\.virtualenvs\\arxiv_tutorial-eqfsjaxc\\lib\\site-packages (from pydantic!=1.8,!=1.8.1,<3.0.0,>=1.7.4->spacy) (0.7.0)\n",
      "Requirement already satisfied: pydantic-core==2.33.2 in c:\\users\\49152\\.virtualenvs\\arxiv_tutorial-eqfsjaxc\\lib\\site-packages (from pydantic!=1.8,!=1.8.1,<3.0.0,>=1.7.4->spacy) (2.33.2)\n",
      "Requirement already satisfied: typing-extensions>=4.12.2 in c:\\users\\49152\\.virtualenvs\\arxiv_tutorial-eqfsjaxc\\lib\\site-packages (from pydantic!=1.8,!=1.8.1,<3.0.0,>=1.7.4->spacy) (4.15.0)\n",
      "Requirement already satisfied: typing-inspection>=0.4.0 in c:\\users\\49152\\.virtualenvs\\arxiv_tutorial-eqfsjaxc\\lib\\site-packages (from pydantic!=1.8,!=1.8.1,<3.0.0,>=1.7.4->spacy) (0.4.1)\n",
      "Requirement already satisfied: charset-normalizer~=2.0.0 in c:\\users\\49152\\.virtualenvs\\arxiv_tutorial-eqfsjaxc\\lib\\site-packages (from requests<3.0.0,>=2.13.0->spacy) (2.0.12)\n",
      "Requirement already satisfied: idna<4,>=2.5 in c:\\users\\49152\\.virtualenvs\\arxiv_tutorial-eqfsjaxc\\lib\\site-packages (from requests<3.0.0,>=2.13.0->spacy) (3.3)\n",
      "Requirement already satisfied: urllib3<1.27,>=1.21.1 in c:\\users\\49152\\.virtualenvs\\arxiv_tutorial-eqfsjaxc\\lib\\site-packages (from requests<3.0.0,>=2.13.0->spacy) (1.26.9)\n",
      "Requirement already satisfied: certifi>=2017.4.17 in c:\\users\\49152\\.virtualenvs\\arxiv_tutorial-eqfsjaxc\\lib\\site-packages (from requests<3.0.0,>=2.13.0->spacy) (2022.6.15)\n",
      "Requirement already satisfied: blis<1.4.0,>=1.3.0 in c:\\users\\49152\\.virtualenvs\\arxiv_tutorial-eqfsjaxc\\lib\\site-packages (from thinc<8.4.0,>=8.3.4->spacy) (1.3.0)\n",
      "Requirement already satisfied: confection<1.0.0,>=0.0.1 in c:\\users\\49152\\.virtualenvs\\arxiv_tutorial-eqfsjaxc\\lib\\site-packages (from thinc<8.4.0,>=8.3.4->spacy) (0.1.5)\n",
      "Collecting numpy>=1.19.0 (from spacy)\n",
      "  Using cached numpy-2.2.6-cp310-cp310-win_amd64.whl.metadata (60 kB)\n",
      "Requirement already satisfied: colorama in c:\\users\\49152\\.virtualenvs\\arxiv_tutorial-eqfsjaxc\\lib\\site-packages (from tqdm<5.0.0,>=4.38.0->spacy) (0.4.6)\n",
      "Requirement already satisfied: click>=8.0.0 in c:\\users\\49152\\.virtualenvs\\arxiv_tutorial-eqfsjaxc\\lib\\site-packages (from typer<1.0.0,>=0.3.0->spacy) (8.1.3)\n",
      "Requirement already satisfied: shellingham>=1.3.0 in c:\\users\\49152\\.virtualenvs\\arxiv_tutorial-eqfsjaxc\\lib\\site-packages (from typer<1.0.0,>=0.3.0->spacy) (1.5.4)\n",
      "Requirement already satisfied: rich>=10.11.0 in c:\\users\\49152\\.virtualenvs\\arxiv_tutorial-eqfsjaxc\\lib\\site-packages (from typer<1.0.0,>=0.3.0->spacy) (12.4.4)\n",
      "Requirement already satisfied: cloudpathlib<1.0.0,>=0.7.0 in c:\\users\\49152\\.virtualenvs\\arxiv_tutorial-eqfsjaxc\\lib\\site-packages (from weasel<0.5.0,>=0.1.0->spacy) (0.22.0)\n",
      "Requirement already satisfied: smart-open<8.0.0,>=5.2.1 in c:\\users\\49152\\.virtualenvs\\arxiv_tutorial-eqfsjaxc\\lib\\site-packages (from weasel<0.5.0,>=0.1.0->spacy) (7.3.1)\n",
      "Requirement already satisfied: wrapt in c:\\users\\49152\\.virtualenvs\\arxiv_tutorial-eqfsjaxc\\lib\\site-packages (from smart-open<8.0.0,>=5.2.1->weasel<0.5.0,>=0.1.0->spacy) (1.17.3)\n",
      "Requirement already satisfied: marisa-trie>=1.1.0 in c:\\users\\49152\\.virtualenvs\\arxiv_tutorial-eqfsjaxc\\lib\\site-packages (from language-data>=1.2->langcodes<4.0.0,>=3.2.0->spacy) (1.3.1)\n",
      "Requirement already satisfied: pyparsing!=3.0.5,>=2.0.2 in c:\\users\\49152\\.virtualenvs\\arxiv_tutorial-eqfsjaxc\\lib\\site-packages (from packaging>=20.0->spacy) (3.0.9)\n",
      "Requirement already satisfied: commonmark<0.10.0,>=0.9.0 in c:\\users\\49152\\.virtualenvs\\arxiv_tutorial-eqfsjaxc\\lib\\site-packages (from rich>=10.11.0->typer<1.0.0,>=0.3.0->spacy) (0.9.1)\n",
      "Requirement already satisfied: pygments<3.0.0,>=2.6.0 in c:\\users\\49152\\.virtualenvs\\arxiv_tutorial-eqfsjaxc\\lib\\site-packages (from rich>=10.11.0->typer<1.0.0,>=0.3.0->spacy) (2.12.0)\n",
      "Requirement already satisfied: MarkupSafe>=2.0 in c:\\users\\49152\\.virtualenvs\\arxiv_tutorial-eqfsjaxc\\lib\\site-packages (from jinja2->spacy) (2.1.1)\n",
      "Using cached numpy-2.2.6-cp310-cp310-win_amd64.whl (12.9 MB)\n",
      "Installing collected packages: numpy\n",
      "  Attempting uninstall: numpy\n",
      "    Found existing installation: numpy 1.24.4\n",
      "    Uninstalling numpy-1.24.4:\n",
      "      Successfully uninstalled numpy-1.24.4\n",
      "Successfully installed numpy-2.2.6\n",
      "Collecting en-core-web-sm==3.8.0\n",
      "  Using cached https://github.com/explosion/spacy-models/releases/download/en_core_web_sm-3.8.0/en_core_web_sm-3.8.0-py3-none-any.whl (12.8 MB)\n",
      "\u001b[38;5;2m✔ Download and installation successful\u001b[0m\n",
      "You can now load the package via spacy.load('en_core_web_sm')\n",
      "Requirement already satisfied: scipy in c:\\users\\49152\\.virtualenvs\\arxiv_tutorial-eqfsjaxc\\lib\\site-packages (1.15.3)\n",
      "Requirement already satisfied: numpy<2.5,>=1.23.5 in c:\\users\\49152\\.virtualenvs\\arxiv_tutorial-eqfsjaxc\\lib\\site-packages (from scipy) (2.2.6)\n",
      "Found existing installation: numpy 2.2.6\n",
      "Uninstalling numpy-2.2.6:\n",
      "  Successfully uninstalled numpy-2.2.6\n",
      "Collecting numpy==1.24.4\n",
      "  Downloading numpy-1.24.4-cp310-cp310-win_amd64.whl.metadata (5.6 kB)\n",
      "Downloading numpy-1.24.4-cp310-cp310-win_amd64.whl (14.8 MB)\n",
      "   ---------------------------------------- 14.8/14.8 MB 13.3 MB/s  0:00:01\n",
      "Installing collected packages: numpy\n",
      "Successfully installed numpy-1.24.4\n"
     ]
    },
    {
     "name": "stderr",
     "output_type": "stream",
     "text": [
      "ERROR: pip's dependency resolver does not currently take into account all the packages that are installed. This behaviour is the source of the following dependency conflicts.\n",
      "thinc 8.3.6 requires numpy<3.0.0,>=2.0.0, but you have numpy 1.24.4 which is incompatible.\n",
      "C:\\Users\\49152\\AppData\\Local\\Programs\\Python\\Python310\\python.exe: can't open file 'c:\\\\Users\\\\49152\\\\Desktop\\\\DataDivas\\\\quest1\\\\pip': [Errno 2] No such file or directory\n"
     ]
    }
   ],
   "source": [
    "import sys\n",
    "\n",
    "!{sys.executable} -m pip install spacy\n",
    "\n",
    "!{sys.executable} -m spacy download en_core_web_sm\n",
    "\n",
    "!{sys.executable} -m pip install --upgrade scipy --no-cache-dir\n",
    "\n",
    "!{sys.executable} -m pip uninstall numpy -y\n",
    "!{sys.executable} -m pip install numpy==1.24.4 --no-cache-dir\n",
    "\n",
    "!{sys.executable} pip install pandas==1.5.3 --no-cache-dir\n"
   ]
  },
  {
   "cell_type": "code",
   "execution_count": 1,
   "id": "e3e77fde",
   "metadata": {},
   "outputs": [
    {
     "name": "stdout",
     "output_type": "stream",
     "text": [
      "1.24.4\n"
     ]
    }
   ],
   "source": [
    "import numpy as np\n",
    "print(np.__version__)"
   ]
  },
  {
   "cell_type": "code",
   "execution_count": 14,
   "id": "54e21ae3",
   "metadata": {},
   "outputs": [],
   "source": [
    "import pandas as pd\n",
    "import json\n",
    "\n",
    "import ast\n",
    "from collections import Counter\n",
    "\n",
    "import spacy\n",
    "\n",
    "import re\n",
    "\n",
    "data = pd.read_csv('one.csv')\n",
    "\n",
    "# The next line cleans the data by removing duplicate lines.\n",
    "data.drop_duplicates(inplace = True)\n",
    "\n",
    "data['Published At'] = pd.to_datetime(data['Published At'])\n",
    "\n",
    "time_periods = [\n",
    "    ('2020', '2020-01-01', '2020-12-31'),\n",
    "    ('2021', '2021-01-01', '2021-12-31'),\n",
    "    ('2022', '2022-01-01', '2022-12-31'),\n",
    "    ('2023', '2023-01-01', '2023-12-31'),\n",
    "    ('2024', '2024-01-01', '2024-12-31'),\n",
    "    ('2025', '2025-01-01', '2025-12-31'),\n",
    "]\n",
    "result = {}\n",
    "\n",
    "for name, start, end in time_periods:\n",
    "    filter = (data['Published At'] >= start) & (data['Published At'] <= end)\n",
    "    filtered = data[filter]\n",
    "\n",
    "    text = ' '.join(filtered['TOP 10 comments'].astype(str).tolist())\n",
    "\n",
    "    text = re.sub(r\"[\\(\\)\\[\\]',\\\"]\", \"\", text)\n",
    "    text = re.sub(r'[^a-zA-Z\\s]', '', text)  # entfernt alles, was kein Buchstabe oder Leerzeichen ist\n",
    "    text = text.lower()\n",
    "\n",
    "    nlp = spacy.load('en_core_web_sm')\n",
    "    stop_words = nlp.Defaults.stop_words\n",
    "\n",
    "    ignore_words = ['people','im','dont','going','got','think','time','like']\n",
    "    all_stopwords = stop_words.union(ignore_words)\n",
    "\n",
    "    words = text.lower().split()\n",
    "    filtered_words = [word for word in words if word not in all_stopwords]\n",
    "\n",
    "    keywords = Counter(filtered_words).most_common(15)\n",
    "\n",
    "    result[name] = {\n",
    "        'keywords' : (keywords)\n",
    "    }\n",
    "\n",
    "with open('answer_one.json', 'w', encoding='utf-8') as file:\n",
    "    json.dump(result, file, indent=2)"
   ]
  },
  {
   "cell_type": "code",
   "execution_count": 2,
   "id": "41a240a4",
   "metadata": {},
   "outputs": [
    {
     "data": {
      "image/png": "[encoded data removed]",
      "text/plain": [
       "<Figure size 720x576 with 1 Axes>"
      ]
     },
     "metadata": {
      "needs_background": "light"
     },
     "output_type": "display_data"
    }
   ],
   "source": [
    "import pandas as pd\n",
    "import matplotlib.pyplot as plt\n",
    "\n",
    "import json\n",
    "from collections import defaultdict\n",
    "\n",
    "with open('answer_one.json', 'r', encoding='utf-8') as file:\n",
    "    keywords = json.load(file)\n",
    "\n",
    "frequencies_all_years = defaultdict(int)\n",
    "\n",
    "for year, content in keywords.items():\n",
    "    for keyword, frequency in content['keywords']:\n",
    "        frequencies_all_years[keyword] += frequency\n",
    "\n",
    "data = pd.DataFrame(frequencies_all_years.items(), columns=['Keyword', 'Frequency'])\n",
    "data = data.sort_values(by='Frequency', ascending=True)\n",
    "\n",
    "plt.figure(figsize=(10,8))\n",
    "plt.barh(data['Keyword'], data['Frequency'], color='green')\n",
    "plt.xlabel('Frequency')\n",
    "plt.title(f'Top keywords')\n",
    "plt.tight_layout()\n",
    "plt.show()\n",
    "\n"
   ]
  }
 ],
 "metadata": {
  "kernelspec": {
   "display_name": "venv",
   "language": "python",
   "name": "venv"
  },
  "language_info": {
   "codemirror_mode": {
    "name": "ipython",
    "version": 3
   },
   "file_extension": ".py",
   "mimetype": "text/x-python",
   "name": "python",
   "nbconvert_exporter": "python",
   "pygments_lexer": "ipython3",
   "version": "3.10.0"
  }
 },
 "nbformat": 4,
 "nbformat_minor": 5
}

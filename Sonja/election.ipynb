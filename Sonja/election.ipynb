{
 "cells": [
  {
   "cell_type": "code",
   "execution_count": 16,
   "id": "bddaefe7",
   "metadata": {},
   "outputs": [
    {
     "name": "stdout",
     "output_type": "stream",
     "text": [
      "      Merkmal Erststimmen_Anzahl Erststimmen_% Zweitstimmen_Anzahl  \\\n",
      "5         SPD          9.936.433          20,1           8.149.124   \n",
      "6         CDU         12.604.184          25,5          11.196.374   \n",
      "8         FDP          1.622.912           3,3           2.148.757   \n",
      "9         AfD         10.177.318          20,6          10.328.780   \n",
      "10        CSU          3.272.064           6,6           2.964.028   \n",
      "11  Die Linke          3.933.297           7,9           4.356.532   \n",
      "31        BSW            299.401           0,6           2.472.947   \n",
      "\n",
      "   Zweitstimmen_%  \n",
      "5            16,4  \n",
      "6            22,6  \n",
      "8             4,3  \n",
      "9            20,8  \n",
      "10            6,0  \n",
      "11            8,8  \n",
      "31          4,981  \n"
     ]
    }
   ],
   "source": [
    "import pandas as pd\n",
    "\n",
    "# CSV einlesen\n",
    "df = pd.read_csv(\"election.csv\", sep=\";\", encoding=\"latin1\")\n",
    "\n",
    "# Parteien-Auswahl\n",
    "parteien = [\"CDU\",\"CSU\", \"GRÜNE\", \"FDP\", \"AfD\", \"Die Linke\", \"BSW\",\"SPD\"]\n",
    "\n",
    "# Nur diese Parteien behalten\n",
    "df_parteien = df[df[\"Merkmal\"].isin(parteien)]\n",
    "\n",
    "# Relevante Spalten auswählen\n",
    "df_result = df_parteien[[\n",
    "    \"Merkmal\",\n",
    "    \"Erststimmen_Anzahl\",\n",
    "    \"Erststimmen_%\",\n",
    "    \"Zweitstimmen_Anzahl\",\n",
    "    \"Zweitstimmen_%\"\n",
    "]]\n",
    "\n",
    "print(df_result)\n"
   ]
  }
 ],
 "metadata": {
  "kernelspec": {
   "display_name": "Python 3",
   "language": "python",
   "name": "python3"
  },
  "language_info": {
   "codemirror_mode": {
    "name": "ipython",
    "version": 3
   },
   "file_extension": ".py",
   "mimetype": "text/x-python",
   "name": "python",
   "nbconvert_exporter": "python",
   "pygments_lexer": "ipython3",
   "version": "3.10.11"
  }
 },
 "nbformat": 4,
 "nbformat_minor": 5
}

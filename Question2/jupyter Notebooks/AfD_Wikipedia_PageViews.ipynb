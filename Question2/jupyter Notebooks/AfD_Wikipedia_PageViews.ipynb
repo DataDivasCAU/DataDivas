{
 "cells": [
  {
   "cell_type": "markdown",
   "id": "8513047e",
   "metadata": {},
   "source": [
    "# Wikipedia API request"
   ]
  },
  {
   "cell_type": "markdown",
   "id": "b25cf629",
   "metadata": {},
   "source": [
    "## Imports\n"
   ]
  },
  {
   "cell_type": "code",
   "execution_count": 341,
   "id": "61a756e2",
   "metadata": {},
   "outputs": [],
   "source": [
    "import pandas as pd\n"
   ]
  },
  {
   "cell_type": "code",
   "execution_count": 342,
   "id": "f01542f0",
   "metadata": {},
   "outputs": [],
   "source": [
    "import matplotlib.pyplot as plt\n"
   ]
  },
  {
   "cell_type": "code",
   "execution_count": 343,
   "id": "9c363f73",
   "metadata": {},
   "outputs": [],
   "source": [
    "\n",
    "from mwviews.api import PageviewsClient\n",
    "\n",
    "# Sends a descriptive User-Agent header with every request\n",
    "p = PageviewsClient(user_agent=\"<person@organization.org> Selfie, Cat, and Dog analysis\")\n"
   ]
  },
  {
   "cell_type": "markdown",
   "id": "38712c95",
   "metadata": {},
   "source": [
    "## API request for Wikipedia PageView Data"
   ]
  },
  {
   "cell_type": "code",
   "execution_count": 352,
   "id": "f892fcf5",
   "metadata": {},
   "outputs": [
    {
     "data": {
      "text/html": [
       "<div>\n",
       "<style scoped>\n",
       "    .dataframe tbody tr th:only-of-type {\n",
       "        vertical-align: middle;\n",
       "    }\n",
       "\n",
       "    .dataframe tbody tr th {\n",
       "        vertical-align: top;\n",
       "    }\n",
       "\n",
       "    .dataframe thead th {\n",
       "        text-align: right;\n",
       "    }\n",
       "</style>\n",
       "<table border=\"1\" class=\"dataframe\">\n",
       "  <thead>\n",
       "    <tr style=\"text-align: right;\">\n",
       "      <th></th>\n",
       "      <th>2024-11-01</th>\n",
       "      <th>2024-11-02</th>\n",
       "      <th>2024-11-03</th>\n",
       "      <th>2024-11-04</th>\n",
       "      <th>2024-11-05</th>\n",
       "      <th>2024-11-06</th>\n",
       "      <th>2024-11-07</th>\n",
       "      <th>2024-11-08</th>\n",
       "      <th>2024-11-09</th>\n",
       "      <th>2024-11-10</th>\n",
       "      <th>...</th>\n",
       "      <th>2025-02-19</th>\n",
       "      <th>2025-02-20</th>\n",
       "      <th>2025-02-21</th>\n",
       "      <th>2025-02-22</th>\n",
       "      <th>2025-02-23</th>\n",
       "      <th>2025-02-24</th>\n",
       "      <th>2025-02-25</th>\n",
       "      <th>2025-02-26</th>\n",
       "      <th>2025-02-27</th>\n",
       "      <th>2025-02-28</th>\n",
       "    </tr>\n",
       "  </thead>\n",
       "  <tbody>\n",
       "    <tr>\n",
       "      <th>Alternative_für_Deutschland</th>\n",
       "      <td>1223</td>\n",
       "      <td>1323</td>\n",
       "      <td>1309</td>\n",
       "      <td>1601</td>\n",
       "      <td>1769</td>\n",
       "      <td>3024</td>\n",
       "      <td>4722</td>\n",
       "      <td>3550</td>\n",
       "      <td>2612</td>\n",
       "      <td>2679</td>\n",
       "      <td>...</td>\n",
       "      <td>12826</td>\n",
       "      <td>11416</td>\n",
       "      <td>10512</td>\n",
       "      <td>12667</td>\n",
       "      <td>60913</td>\n",
       "      <td>46538</td>\n",
       "      <td>19592</td>\n",
       "      <td>14399</td>\n",
       "      <td>8108</td>\n",
       "      <td>6006</td>\n",
       "    </tr>\n",
       "  </tbody>\n",
       "</table>\n",
       "<p>1 rows × 120 columns</p>\n",
       "</div>"
      ],
      "text/plain": [
       "                             2024-11-01  2024-11-02  2024-11-03  2024-11-04  \\\n",
       "Alternative_für_Deutschland        1223        1323        1309        1601   \n",
       "\n",
       "                             2024-11-05  2024-11-06  2024-11-07  2024-11-08  \\\n",
       "Alternative_für_Deutschland        1769        3024        4722        3550   \n",
       "\n",
       "                             2024-11-09  2024-11-10  ...  2025-02-19  \\\n",
       "Alternative_für_Deutschland        2612        2679  ...       12826   \n",
       "\n",
       "                             2025-02-20  2025-02-21  2025-02-22  2025-02-23  \\\n",
       "Alternative_für_Deutschland       11416       10512       12667       60913   \n",
       "\n",
       "                             2025-02-24  2025-02-25  2025-02-26  2025-02-27  \\\n",
       "Alternative_für_Deutschland       46538       19592       14399        8108   \n",
       "\n",
       "                             2025-02-28  \n",
       "Alternative_für_Deutschland        6006  \n",
       "\n",
       "[1 rows x 120 columns]"
      ]
     },
     "execution_count": 352,
     "metadata": {},
     "output_type": "execute_result"
    }
   ],
   "source": [
    "quest6 = p.article_views('de.wikipedia', ['Alternative für Deutschland'], granularity='daily', start='20241101', end='20250228')\n",
    "\n",
    "\n",
    "df6 = pd.DataFrame(quest6)\n",
    "df6\n"
   ]
  },
  {
   "cell_type": "markdown",
   "id": "50bd1420",
   "metadata": {},
   "source": [
    "## Daily Data"
   ]
  },
  {
   "cell_type": "code",
   "execution_count": null,
   "id": "134b845d",
   "metadata": {},
   "outputs": [
    {
     "data": {
      "text/html": [
       "<div>\n",
       "<style scoped>\n",
       "    .dataframe tbody tr th:only-of-type {\n",
       "        vertical-align: middle;\n",
       "    }\n",
       "\n",
       "    .dataframe tbody tr th {\n",
       "        vertical-align: top;\n",
       "    }\n",
       "\n",
       "    .dataframe thead th {\n",
       "        text-align: right;\n",
       "    }\n",
       "</style>\n",
       "<table border=\"1\" class=\"dataframe\">\n",
       "  <thead>\n",
       "    <tr style=\"text-align: right;\">\n",
       "      <th></th>\n",
       "      <th>Alternative_für_Deutschland</th>\n",
       "    </tr>\n",
       "  </thead>\n",
       "  <tbody>\n",
       "    <tr>\n",
       "      <th>2024-11-01</th>\n",
       "      <td>1223</td>\n",
       "    </tr>\n",
       "    <tr>\n",
       "      <th>2024-11-02</th>\n",
       "      <td>1323</td>\n",
       "    </tr>\n",
       "    <tr>\n",
       "      <th>2024-11-03</th>\n",
       "      <td>1309</td>\n",
       "    </tr>\n",
       "    <tr>\n",
       "      <th>2024-11-04</th>\n",
       "      <td>1601</td>\n",
       "    </tr>\n",
       "    <tr>\n",
       "      <th>2024-11-05</th>\n",
       "      <td>1769</td>\n",
       "    </tr>\n",
       "    <tr>\n",
       "      <th>...</th>\n",
       "      <td>...</td>\n",
       "    </tr>\n",
       "    <tr>\n",
       "      <th>2025-02-24</th>\n",
       "      <td>46538</td>\n",
       "    </tr>\n",
       "    <tr>\n",
       "      <th>2025-02-25</th>\n",
       "      <td>19592</td>\n",
       "    </tr>\n",
       "    <tr>\n",
       "      <th>2025-02-26</th>\n",
       "      <td>14399</td>\n",
       "    </tr>\n",
       "    <tr>\n",
       "      <th>2025-02-27</th>\n",
       "      <td>8108</td>\n",
       "    </tr>\n",
       "    <tr>\n",
       "      <th>2025-02-28</th>\n",
       "      <td>6006</td>\n",
       "    </tr>\n",
       "  </tbody>\n",
       "</table>\n",
       "<p>120 rows × 1 columns</p>\n",
       "</div>"
      ],
      "text/plain": [
       "            Alternative_für_Deutschland\n",
       "2024-11-01                         1223\n",
       "2024-11-02                         1323\n",
       "2024-11-03                         1309\n",
       "2024-11-04                         1601\n",
       "2024-11-05                         1769\n",
       "...                                 ...\n",
       "2025-02-24                        46538\n",
       "2025-02-25                        19592\n",
       "2025-02-26                        14399\n",
       "2025-02-27                         8108\n",
       "2025-02-28                         6006\n",
       "\n",
       "[120 rows x 1 columns]"
      ]
     },
     "execution_count": 353,
     "metadata": {},
     "output_type": "execute_result"
    }
   ],
   "source": [
    "df6_2 = df6.transpose()\n",
    "df6_2"
   ]
  },
  {
   "cell_type": "code",
   "execution_count": 354,
   "id": "b2475a96",
   "metadata": {},
   "outputs": [
    {
     "data": {
      "text/html": [
       "<div>\n",
       "<style scoped>\n",
       "    .dataframe tbody tr th:only-of-type {\n",
       "        vertical-align: middle;\n",
       "    }\n",
       "\n",
       "    .dataframe tbody tr th {\n",
       "        vertical-align: top;\n",
       "    }\n",
       "\n",
       "    .dataframe thead th {\n",
       "        text-align: right;\n",
       "    }\n",
       "</style>\n",
       "<table border=\"1\" class=\"dataframe\">\n",
       "  <thead>\n",
       "    <tr style=\"text-align: right;\">\n",
       "      <th></th>\n",
       "      <th>Alternative_für_Deutschland</th>\n",
       "    </tr>\n",
       "  </thead>\n",
       "  <tbody>\n",
       "    <tr>\n",
       "      <th>2024-11-01</th>\n",
       "      <td>1223</td>\n",
       "    </tr>\n",
       "    <tr>\n",
       "      <th>2024-11-02</th>\n",
       "      <td>1323</td>\n",
       "    </tr>\n",
       "    <tr>\n",
       "      <th>2024-11-03</th>\n",
       "      <td>1309</td>\n",
       "    </tr>\n",
       "    <tr>\n",
       "      <th>2024-11-04</th>\n",
       "      <td>1601</td>\n",
       "    </tr>\n",
       "    <tr>\n",
       "      <th>2024-11-05</th>\n",
       "      <td>1769</td>\n",
       "    </tr>\n",
       "    <tr>\n",
       "      <th>...</th>\n",
       "      <td>...</td>\n",
       "    </tr>\n",
       "    <tr>\n",
       "      <th>2025-02-24</th>\n",
       "      <td>46538</td>\n",
       "    </tr>\n",
       "    <tr>\n",
       "      <th>2025-02-25</th>\n",
       "      <td>19592</td>\n",
       "    </tr>\n",
       "    <tr>\n",
       "      <th>2025-02-26</th>\n",
       "      <td>14399</td>\n",
       "    </tr>\n",
       "    <tr>\n",
       "      <th>2025-02-27</th>\n",
       "      <td>8108</td>\n",
       "    </tr>\n",
       "    <tr>\n",
       "      <th>2025-02-28</th>\n",
       "      <td>6006</td>\n",
       "    </tr>\n",
       "  </tbody>\n",
       "</table>\n",
       "<p>120 rows × 1 columns</p>\n",
       "</div>"
      ],
      "text/plain": [
       "            Alternative_für_Deutschland\n",
       "2024-11-01                         1223\n",
       "2024-11-02                         1323\n",
       "2024-11-03                         1309\n",
       "2024-11-04                         1601\n",
       "2024-11-05                         1769\n",
       "...                                 ...\n",
       "2025-02-24                        46538\n",
       "2025-02-25                        19592\n",
       "2025-02-26                        14399\n",
       "2025-02-27                         8108\n",
       "2025-02-28                         6006\n",
       "\n",
       "[120 rows x 1 columns]"
      ]
     },
     "execution_count": 354,
     "metadata": {},
     "output_type": "execute_result"
    }
   ],
   "source": [
    "df6_3 = df6_2.sort_index()\n",
    "\n",
    "df6_3"
   ]
  },
  {
   "cell_type": "code",
   "execution_count": null,
   "id": "70871f11",
   "metadata": {},
   "outputs": [
    {
     "data": {
      "text/plain": [
       "[DatetimeIndex(['2024-11-01', '2024-11-02', '2024-11-03', '2024-11-04',\n",
       "                '2024-11-05', '2024-11-06', '2024-11-07', '2024-11-08',\n",
       "                '2024-11-09', '2024-11-10',\n",
       "                ...\n",
       "                '2025-02-19', '2025-02-20', '2025-02-21', '2025-02-22',\n",
       "                '2025-02-23', '2025-02-24', '2025-02-25', '2025-02-26',\n",
       "                '2025-02-27', '2025-02-28'],\n",
       "               dtype='datetime64[ns]', length=120, freq=None),\n",
       " Index(['Alternative_für_Deutschland'], dtype='object')]"
      ]
     },
     "execution_count": 355,
     "metadata": {},
     "output_type": "execute_result"
    }
   ],
   "source": [
    "df6_3.axes"
   ]
  },
  {
   "cell_type": "code",
   "execution_count": 356,
   "id": "36cdb615",
   "metadata": {},
   "outputs": [
    {
     "data": {
      "image/png": "[encoded data removed]",
      "text/plain": [
       "<Figure size 640x480 with 1 Axes>"
      ]
     },
     "metadata": {},
     "output_type": "display_data"
    }
   ],
   "source": [
    "plot = df6_3.plot(title='Daily Page Views')"
   ]
  },
  {
   "cell_type": "markdown",
   "id": "d120aee5",
   "metadata": {},
   "source": [
    "## Weekly Data "
   ]
  },
  {
   "cell_type": "code",
   "execution_count": 362,
   "id": "4be67047",
   "metadata": {},
   "outputs": [],
   "source": [
    "# Make sure index is datetime\n",
    "df6_3.index = pd.to_datetime(df6_3.index)\n",
    "\n",
    "# Resample to weekly (sum of daily views per week)\n",
    "weekly_views = df6_3.resample('W-MON').sum()\n"
   ]
  },
  {
   "cell_type": "code",
   "execution_count": 363,
   "id": "285529a9",
   "metadata": {},
   "outputs": [
    {
     "data": {
      "text/html": [
       "<div>\n",
       "<style scoped>\n",
       "    .dataframe tbody tr th:only-of-type {\n",
       "        vertical-align: middle;\n",
       "    }\n",
       "\n",
       "    .dataframe tbody tr th {\n",
       "        vertical-align: top;\n",
       "    }\n",
       "\n",
       "    .dataframe thead th {\n",
       "        text-align: right;\n",
       "    }\n",
       "</style>\n",
       "<table border=\"1\" class=\"dataframe\">\n",
       "  <thead>\n",
       "    <tr style=\"text-align: right;\">\n",
       "      <th></th>\n",
       "      <th>Alternative_für_Deutschland</th>\n",
       "    </tr>\n",
       "  </thead>\n",
       "  <tbody>\n",
       "    <tr>\n",
       "      <th>2024-11-04</th>\n",
       "      <td>5456</td>\n",
       "    </tr>\n",
       "    <tr>\n",
       "      <th>2024-11-11</th>\n",
       "      <td>21166</td>\n",
       "    </tr>\n",
       "    <tr>\n",
       "      <th>2024-11-18</th>\n",
       "      <td>34774</td>\n",
       "    </tr>\n",
       "    <tr>\n",
       "      <th>2024-11-25</th>\n",
       "      <td>15952</td>\n",
       "    </tr>\n",
       "    <tr>\n",
       "      <th>2024-12-02</th>\n",
       "      <td>13269</td>\n",
       "    </tr>\n",
       "    <tr>\n",
       "      <th>2024-12-09</th>\n",
       "      <td>14185</td>\n",
       "    </tr>\n",
       "    <tr>\n",
       "      <th>2024-12-16</th>\n",
       "      <td>14376</td>\n",
       "    </tr>\n",
       "    <tr>\n",
       "      <th>2024-12-23</th>\n",
       "      <td>27081</td>\n",
       "    </tr>\n",
       "    <tr>\n",
       "      <th>2024-12-30</th>\n",
       "      <td>20642</td>\n",
       "    </tr>\n",
       "    <tr>\n",
       "      <th>2025-01-06</th>\n",
       "      <td>21271</td>\n",
       "    </tr>\n",
       "    <tr>\n",
       "      <th>2025-01-13</th>\n",
       "      <td>43992</td>\n",
       "    </tr>\n",
       "    <tr>\n",
       "      <th>2025-01-20</th>\n",
       "      <td>37222</td>\n",
       "    </tr>\n",
       "    <tr>\n",
       "      <th>2025-01-27</th>\n",
       "      <td>46638</td>\n",
       "    </tr>\n",
       "    <tr>\n",
       "      <th>2025-02-03</th>\n",
       "      <td>75407</td>\n",
       "    </tr>\n",
       "    <tr>\n",
       "      <th>2025-02-10</th>\n",
       "      <td>58425</td>\n",
       "    </tr>\n",
       "    <tr>\n",
       "      <th>2025-02-17</th>\n",
       "      <td>73321</td>\n",
       "    </tr>\n",
       "    <tr>\n",
       "      <th>2025-02-24</th>\n",
       "      <td>168367</td>\n",
       "    </tr>\n",
       "    <tr>\n",
       "      <th>2025-03-03</th>\n",
       "      <td>48105</td>\n",
       "    </tr>\n",
       "  </tbody>\n",
       "</table>\n",
       "</div>"
      ],
      "text/plain": [
       "            Alternative_für_Deutschland\n",
       "2024-11-04                         5456\n",
       "2024-11-11                        21166\n",
       "2024-11-18                        34774\n",
       "2024-11-25                        15952\n",
       "2024-12-02                        13269\n",
       "2024-12-09                        14185\n",
       "2024-12-16                        14376\n",
       "2024-12-23                        27081\n",
       "2024-12-30                        20642\n",
       "2025-01-06                        21271\n",
       "2025-01-13                        43992\n",
       "2025-01-20                        37222\n",
       "2025-01-27                        46638\n",
       "2025-02-03                        75407\n",
       "2025-02-10                        58425\n",
       "2025-02-17                        73321\n",
       "2025-02-24                       168367\n",
       "2025-03-03                        48105"
      ]
     },
     "execution_count": 363,
     "metadata": {},
     "output_type": "execute_result"
    }
   ],
   "source": [
    "weekly_views"
   ]
  },
  {
   "cell_type": "code",
   "execution_count": 364,
   "id": "019f6b32",
   "metadata": {},
   "outputs": [
    {
     "data": {
      "image/png": "[encoded data removed]",
      "text/plain": [
       "<Figure size 640x480 with 1 Axes>"
      ]
     },
     "metadata": {},
     "output_type": "display_data"
    }
   ],
   "source": [
    "plotweekly = weekly_views.plot(title='weekly Page Views', kind = 'bar')"
   ]
  },
  {
   "cell_type": "code",
   "execution_count": 366,
   "id": "ddfc863d",
   "metadata": {},
   "outputs": [],
   "source": [
    "weekly_views.to_csv('quest2_wiki.csv')\n",
    "df6_3.to_csv('quest2_wiki_daily.csv')"
   ]
  }
 ],
 "metadata": {
  "kernelspec": {
   "display_name": "venv",
   "language": "python",
   "name": "venv"
  },
  "language_info": {
   "codemirror_mode": {
    "name": "ipython",
    "version": 3
   },
   "file_extension": ".py",
   "mimetype": "text/x-python",
   "name": "python",
   "nbconvert_exporter": "python",
   "pygments_lexer": "ipython3",
   "version": "3.10.11"
  }
 },
 "nbformat": 4,
 "nbformat_minor": 5
}
